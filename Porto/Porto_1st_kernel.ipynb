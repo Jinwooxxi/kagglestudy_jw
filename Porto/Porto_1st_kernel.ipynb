{
  "nbformat": 4,
  "nbformat_minor": 0,
  "metadata": {
    "colab": {
      "name": "Porto_1st_kernel.ipynb",
      "private_outputs": true,
      "provenance": [],
      "collapsed_sections": [],
      "authorship_tag": "ABX9TyPHbRXpNTN5ToF+bDcRayXi",
      "include_colab_link": true
    },
    "kernelspec": {
      "name": "python3",
      "display_name": "Python 3"
    },
    "language_info": {
      "name": "python"
    }
  },
  "cells": [
    {
      "cell_type": "markdown",
      "metadata": {
        "id": "view-in-github",
        "colab_type": "text"
      },
      "source": [
        "<a href=\"https://colab.research.google.com/github/Jinwooxxi/kagglestudy_jw/blob/main/Porto/Porto_1st_kernel.ipynb\" target=\"_parent\"><img src=\"https://colab.research.google.com/assets/colab-badge.svg\" alt=\"Open In Colab\"/></a>"
      ]
    },
    {
      "cell_type": "markdown",
      "metadata": {
        "id": "fAmqROsUqzVC"
      },
      "source": [
        "# Introduction\n",
        "\n",
        "This notebook aims at getting a good insight in the data for the PorteSeguro competition. Besides that, it gives some tips and trick to prepare your data for modeling. \n",
        "\n",
        "1. Visual inspection of your data\n",
        "2. Defining the metadata\n",
        "3. Descriptive statistics\n",
        "4. Handling imbalaced classed\n",
        "5. Data quality checks\n",
        "6. Exploratory data cisualization\n",
        "7. Feature enginneering\n",
        "8. Feature selection\n",
        "9. Feature scaling"
      ]
    },
    {
      "cell_type": "markdown",
      "metadata": {
        "id": "ZJENi32QrcHJ"
      },
      "source": [
        "# Loading packages"
      ]
    },
    {
      "cell_type": "code",
      "metadata": {
        "id": "UyzgqlaKpqIw"
      },
      "source": [
        "import pandas as pd\n",
        "import numpy as np\n",
        "import matplotlib.pyplot as plt\n",
        "import seaborn as sns\n",
        "from sklearn.impute import SimpleImputer\n",
        "from sklearn.preprocessing import PolynomialFeatures\n",
        "from sklearn.preprocessing import StandardScaler\n",
        "from sklearn.feature_selection import VarianceThreshold\n",
        "from sklearn.feature_selection import SelectFromModel\n",
        "from sklearn.utils import shuffle\n",
        "from sklearn.ensemble import RandomForestClassifier\n",
        "\n",
        "pd.set_option('display.max_columns', 100)"
      ],
      "execution_count": null,
      "outputs": []
    },
    {
      "cell_type": "markdown",
      "metadata": {
        "id": "Rf5qAc9yrfio"
      },
      "source": [
        "# Loading data"
      ]
    },
    {
      "cell_type": "code",
      "metadata": {
        "id": "fcKRA_qIn0bm"
      },
      "source": [
        "from google.colab import drive\n",
        "drive.mount('/content/drive')"
      ],
      "execution_count": null,
      "outputs": []
    },
    {
      "cell_type": "code",
      "metadata": {
        "id": "83p9Hgo6pnQT"
      },
      "source": [
        "train = pd.read_csv('/content/drive/My Drive/porto/train.csv')\n",
        "test = pd.read_csv('/content/drive/My Drive/porto/test.csv')"
      ],
      "execution_count": null,
      "outputs": []
    },
    {
      "cell_type": "markdown",
      "metadata": {
        "id": "yJ5A_ExYrn8y"
      },
      "source": [
        "# Data at first sight\n",
        "\n",
        "Here is an excerpt of the data description for the competitons:\n",
        "\n",
        "* Features that belong to similar groupings are tagged as such in the feature names (e.g, ind, reg, car, calc).\n",
        "* Featuer names include the postfix bin to indicate binary features and cat to indicate categorical features.\n",
        "* Feautures without these designations are either continuous or ordinal.\n",
        "* Values of -1 indicate that the feature was missing from the observation.\n",
        "* The target columns signifiies whether or not a claim was filed for that policy holder."
      ]
    },
    {
      "cell_type": "code",
      "metadata": {
        "id": "2hr60ZnrqwF0"
      },
      "source": [
        "train.head()"
      ],
      "execution_count": null,
      "outputs": []
    },
    {
      "cell_type": "code",
      "metadata": {
        "id": "vJXrK3U1rnng"
      },
      "source": [
        "train.tail()"
      ],
      "execution_count": null,
      "outputs": []
    },
    {
      "cell_type": "markdown",
      "metadata": {
        "id": "Erb5ObVsszST"
      },
      "source": [
        "We indeed see the following\n",
        "\n",
        "* binary variables\n",
        "* categorical variables of which the category values are integers\n",
        "* other variables with integer or float values\n",
        "* variables with -1 representing missing values\n",
        "* the target variable and an ID variable"
      ]
    },
    {
      "cell_type": "code",
      "metadata": {
        "id": "WnzuPjmUrnk6"
      },
      "source": [
        "train.shape"
      ],
      "execution_count": null,
      "outputs": []
    },
    {
      "cell_type": "code",
      "metadata": {
        "id": "KLJBcuWnrniO"
      },
      "source": [
        "train.drop_duplicates()\n",
        "train.shape"
      ],
      "execution_count": null,
      "outputs": []
    },
    {
      "cell_type": "code",
      "metadata": {
        "id": "ZkOVea7Brnfn"
      },
      "source": [
        "test.shape"
      ],
      "execution_count": null,
      "outputs": []
    },
    {
      "cell_type": "markdown",
      "metadata": {
        "id": "3THgOzwetQx1"
      },
      "source": [
        "So later on we can creat dummy cariables for the 14 categorical variables. The *bin* variables are already binary and do not need dummification."
      ]
    },
    {
      "cell_type": "code",
      "metadata": {
        "id": "J8Ewk4IMrndL"
      },
      "source": [
        "train.info()"
      ],
      "execution_count": null,
      "outputs": []
    },
    {
      "cell_type": "markdown",
      "metadata": {
        "id": "JfwWTHVRtzw4"
      },
      "source": [
        "Again, with the info() method we see that the data type is integer or float. No null values are present in the data set. That's normal because missing values are replaced by -1. We'll look into that later."
      ]
    },
    {
      "cell_type": "markdown",
      "metadata": {
        "id": "OMscutGzt1sR"
      },
      "source": [
        "# Metadata\n",
        "\n",
        "To facilitate the data management, we';; store meta-information about the variables in a DataFrame. This will be helpful when we want to select spcific variables for analysis, visualization, modeling..\n",
        "\n",
        "Concretely we will store:\n",
        "* role : input, ID, target\n",
        "* level : nominal, interval, ordinal, binary\n",
        "* keep : True, False\n",
        "* dtype : int, float, str"
      ]
    },
    {
      "cell_type": "code",
      "metadata": {
        "id": "vL8r3r6kuilG"
      },
      "source": [
        "data = []\n",
        "\n",
        "for f in train.columns:\n",
        "  # Defining the role\n",
        "  if f == 'target':\n",
        "    role = 'target'\n",
        "  elif f == 'id':\n",
        "    role = 'id'\n",
        "  else:\n",
        "    role = 'input'\n",
        "\n",
        "  # Defining the level\n",
        "  if 'bin' in f or f == 'target':\n",
        "    level = 'binary'\n",
        "  elif 'cat' in f or f == 'id':\n",
        "    level = 'nominal'\n",
        "  elif train[f].dtype == float:\n",
        "    level = 'interval'\n",
        "  elif train[f].dtype == int:\n",
        "    level = 'ordinal'\n",
        "  \n",
        "  # Initialize keep to True for all variables except for id\n",
        "  keep = True\n",
        "  if f == 'id':\n",
        "    keep = False\n",
        "  \n",
        "  # Defining the data type\n",
        "  dtype = train[f].dtype\n",
        "\n",
        "  # Creating a Dict that contains all the metadata for the variable\n",
        "  f_dict = {\n",
        "      'varname' : f,\n",
        "      'role' : role,\n",
        "      'level' : level,\n",
        "      'keep' : keep,\n",
        "      'dtype' : dtype\n",
        "  }\n",
        "  data.append(f_dict)\n",
        "\n",
        "meta = pd.DataFrame(data, columns=['varname', 'role', 'level', 'keep', 'dtype'])\n",
        "meta.set_index('varname', inplace=True)"
      ],
      "execution_count": null,
      "outputs": []
    },
    {
      "cell_type": "code",
      "metadata": {
        "id": "6YJAoE_suiih"
      },
      "source": [
        "meta"
      ],
      "execution_count": null,
      "outputs": []
    },
    {
      "cell_type": "markdown",
      "metadata": {
        "id": "WT73iwcC2XEQ"
      },
      "source": [
        "Example to extract all nminal varialbles that are not dropped"
      ]
    },
    {
      "cell_type": "code",
      "metadata": {
        "id": "oo_OuMnVuifr"
      },
      "source": [
        "meta[(meta.level == 'nominal') & (meta.keep)].index"
      ],
      "execution_count": null,
      "outputs": []
    },
    {
      "cell_type": "markdown",
      "metadata": {
        "id": "hUeu0ywB29bF"
      },
      "source": [
        "Below the number of variables per role and level are displayed."
      ]
    },
    {
      "cell_type": "code",
      "metadata": {
        "id": "t_hebPzouic0"
      },
      "source": [
        "pd.DataFrame({'count':meta.groupby(['role', 'level'])['role'].size()}).reset_index()"
      ],
      "execution_count": null,
      "outputs": []
    },
    {
      "cell_type": "markdown",
      "metadata": {
        "id": "CSMGJn_03YN2"
      },
      "source": [
        "# Descriptive statistics\n",
        "\n",
        "We can also apply the describe method on the dataframe. However, it doesn't make much sense to calculate the mean, std, ... on categorical variables and the id variable. We'll explore the categorical variables visually later.\n",
        "\n",
        "Thanks to our meta file we can easily select the variables on which we want to compute the descriptive statistics. To keep things clear, we';; do this per data type"
      ]
    },
    {
      "cell_type": "markdown",
      "metadata": {
        "id": "ArSww6Qa36UQ"
      },
      "source": [
        "## Interval variables"
      ]
    },
    {
      "cell_type": "code",
      "metadata": {
        "id": "wnAZT9afuiaO"
      },
      "source": [
        "v = meta[(meta.level == 'interval') & (meta.keep)].index\n",
        "train[v].describe()"
      ],
      "execution_count": null,
      "outputs": []
    },
    {
      "cell_type": "markdown",
      "metadata": {
        "id": "QprY6l4n4-XJ"
      },
      "source": [
        "### reg variables\n",
        "* only ps_reg_03 has missing values\n",
        "* the range (min to max) differs between the variables. We could apply scaling (e.g. StandardScaler), but it depends on the classifier we will want to use.\n",
        "\n",
        "### car variables\n",
        "* ps_car_12 and ps_car_15 have missing values\n",
        "* again, the range differs and we could apply scaling.\n",
        "\n",
        "### calc variables\n",
        "* no missing values\n",
        "* this seems to be some kind of ratio as the maximum is 0.9\n",
        "all three _calc variables have very similar distributions\n",
        "\n",
        "**Overall,** we can see that the range of the interval variables is rather small. Perhaps some transformation (e.g. log) is already applied in order to anonymize the data?"
      ]
    },
    {
      "cell_type": "markdown",
      "metadata": {
        "id": "6q0fXtcr5Rs8"
      },
      "source": [
        "## Ordinal variable"
      ]
    },
    {
      "cell_type": "code",
      "metadata": {
        "id": "XtdV1p_-uiXY"
      },
      "source": [
        "v = meta[(meta.level == 'ordinal') & (meta.keep)].index\n",
        "train[v].describe()"
      ],
      "execution_count": null,
      "outputs": []
    },
    {
      "cell_type": "markdown",
      "metadata": {
        "id": "kfJIDggM7Mx2"
      },
      "source": [
        "Only one missing variable: ps_car_11\n",
        "We could apply scaling to deal with the different ranges"
      ]
    },
    {
      "cell_type": "markdown",
      "metadata": {
        "id": "1nWqfiEm7O6S"
      },
      "source": [
        "## Binary variable"
      ]
    },
    {
      "cell_type": "code",
      "metadata": {
        "id": "NWhG6w_-uiUz"
      },
      "source": [
        "v = meta[(meta.level == 'binary') & (meta.keep)].index\n",
        "train[v].describe()"
      ],
      "execution_count": null,
      "outputs": []
    },
    {
      "cell_type": "markdown",
      "metadata": {
        "id": "2klmNjsz7ZqO"
      },
      "source": [
        "* A priori in the train data is 3.645%, which is strongly imbalanced.\n",
        "* From the means we can conclude that for most variables the value is zero in most cases."
      ]
    },
    {
      "cell_type": "code",
      "metadata": {
        "id": "Ckc2_ZiJuiSI"
      },
      "source": [
        ""
      ],
      "execution_count": null,
      "outputs": []
    },
    {
      "cell_type": "code",
      "metadata": {
        "id": "hg_swn1QuiPc"
      },
      "source": [
        ""
      ],
      "execution_count": null,
      "outputs": []
    },
    {
      "cell_type": "code",
      "metadata": {
        "id": "pCGIpf2ZuiMw"
      },
      "source": [
        ""
      ],
      "execution_count": null,
      "outputs": []
    },
    {
      "cell_type": "code",
      "metadata": {
        "id": "GI7AczAuuiKG"
      },
      "source": [
        ""
      ],
      "execution_count": null,
      "outputs": []
    },
    {
      "cell_type": "code",
      "metadata": {
        "id": "WCT9iCi6uiHe"
      },
      "source": [
        ""
      ],
      "execution_count": null,
      "outputs": []
    },
    {
      "cell_type": "code",
      "metadata": {
        "id": "MyBScnaZuiFi"
      },
      "source": [
        ""
      ],
      "execution_count": null,
      "outputs": []
    },
    {
      "cell_type": "code",
      "metadata": {
        "id": "T1TV2TcEuiCW"
      },
      "source": [
        ""
      ],
      "execution_count": null,
      "outputs": []
    },
    {
      "cell_type": "code",
      "metadata": {
        "id": "jS6YOS1luh_s"
      },
      "source": [
        ""
      ],
      "execution_count": null,
      "outputs": []
    },
    {
      "cell_type": "code",
      "metadata": {
        "id": "PuSSrQBHuh9E"
      },
      "source": [
        ""
      ],
      "execution_count": null,
      "outputs": []
    },
    {
      "cell_type": "code",
      "metadata": {
        "id": "nq28FXfLuh6W"
      },
      "source": [
        ""
      ],
      "execution_count": null,
      "outputs": []
    },
    {
      "cell_type": "code",
      "metadata": {
        "id": "pr3yGtaKuh3-"
      },
      "source": [
        ""
      ],
      "execution_count": null,
      "outputs": []
    },
    {
      "cell_type": "code",
      "metadata": {
        "id": "7AEf0ihZuh1T"
      },
      "source": [
        ""
      ],
      "execution_count": null,
      "outputs": []
    },
    {
      "cell_type": "code",
      "metadata": {
        "id": "tPX_GLGYuhzA"
      },
      "source": [
        ""
      ],
      "execution_count": null,
      "outputs": []
    },
    {
      "cell_type": "code",
      "metadata": {
        "id": "tnThhPQfuhxV"
      },
      "source": [
        ""
      ],
      "execution_count": null,
      "outputs": []
    },
    {
      "cell_type": "code",
      "metadata": {
        "id": "l6XEEr7DuhuH"
      },
      "source": [
        ""
      ],
      "execution_count": null,
      "outputs": []
    },
    {
      "cell_type": "code",
      "metadata": {
        "id": "eXv1u841uhrf"
      },
      "source": [
        ""
      ],
      "execution_count": null,
      "outputs": []
    },
    {
      "cell_type": "code",
      "metadata": {
        "id": "TLJb78RWuhpb"
      },
      "source": [
        ""
      ],
      "execution_count": null,
      "outputs": []
    },
    {
      "cell_type": "code",
      "metadata": {
        "id": "f3YvkJbauhmp"
      },
      "source": [
        ""
      ],
      "execution_count": null,
      "outputs": []
    },
    {
      "cell_type": "code",
      "metadata": {
        "id": "KtwPbwzvrnX5"
      },
      "source": [
        ""
      ],
      "execution_count": null,
      "outputs": []
    },
    {
      "cell_type": "code",
      "metadata": {
        "id": "_-h5trb0rnVn"
      },
      "source": [
        ""
      ],
      "execution_count": null,
      "outputs": []
    },
    {
      "cell_type": "code",
      "metadata": {
        "id": "A1LKRipBrnSw"
      },
      "source": [
        ""
      ],
      "execution_count": null,
      "outputs": []
    },
    {
      "cell_type": "code",
      "metadata": {
        "id": "QeaQUx4wrnQU"
      },
      "source": [
        ""
      ],
      "execution_count": null,
      "outputs": []
    },
    {
      "cell_type": "code",
      "metadata": {
        "id": "G0iporKUrnNq"
      },
      "source": [
        ""
      ],
      "execution_count": null,
      "outputs": []
    },
    {
      "cell_type": "code",
      "metadata": {
        "id": "wovDmbHxrnLL"
      },
      "source": [
        ""
      ],
      "execution_count": null,
      "outputs": []
    },
    {
      "cell_type": "code",
      "metadata": {
        "id": "DsIYpfe_rnIk"
      },
      "source": [
        ""
      ],
      "execution_count": null,
      "outputs": []
    },
    {
      "cell_type": "code",
      "metadata": {
        "id": "NRJTAWI3rnGF"
      },
      "source": [
        ""
      ],
      "execution_count": null,
      "outputs": []
    },
    {
      "cell_type": "code",
      "metadata": {
        "id": "B1yenKCHrnDo"
      },
      "source": [
        ""
      ],
      "execution_count": null,
      "outputs": []
    },
    {
      "cell_type": "code",
      "metadata": {
        "id": "SB4PF3NwrnA_"
      },
      "source": [
        ""
      ],
      "execution_count": null,
      "outputs": []
    },
    {
      "cell_type": "code",
      "metadata": {
        "id": "QAic5C5yrm-Z"
      },
      "source": [
        ""
      ],
      "execution_count": null,
      "outputs": []
    },
    {
      "cell_type": "code",
      "metadata": {
        "id": "SWnYVVL9rm73"
      },
      "source": [
        ""
      ],
      "execution_count": null,
      "outputs": []
    },
    {
      "cell_type": "code",
      "metadata": {
        "id": "COsilVsjrm5p"
      },
      "source": [
        ""
      ],
      "execution_count": null,
      "outputs": []
    },
    {
      "cell_type": "code",
      "metadata": {
        "id": "CxGwQaQOrm3G"
      },
      "source": [
        ""
      ],
      "execution_count": null,
      "outputs": []
    },
    {
      "cell_type": "code",
      "metadata": {
        "id": "tWIoxgU5rm0t"
      },
      "source": [
        ""
      ],
      "execution_count": null,
      "outputs": []
    },
    {
      "cell_type": "code",
      "metadata": {
        "id": "hKDoZIhLrmyX"
      },
      "source": [
        ""
      ],
      "execution_count": null,
      "outputs": []
    },
    {
      "cell_type": "code",
      "metadata": {
        "id": "o-UJj2S4rmv7"
      },
      "source": [
        ""
      ],
      "execution_count": null,
      "outputs": []
    }
  ]
}